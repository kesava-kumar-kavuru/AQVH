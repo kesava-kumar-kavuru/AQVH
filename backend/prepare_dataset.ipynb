{
 "cells": [
  {
   "cell_type": "markdown",
   "id": "9e20dcd7",
   "metadata": {},
   "source": [
    "# FTSE100 Dataset Preparation for ML Prediction\n",
    "\n",
    "This notebook prepares the dataset by calculating the following features:\n",
    "- `sma_crossover`\n",
    "- `price_sma_ratio`\n",
    "- `rsi`\n",
    "- `macd`\n",
    "- `macd_hist`\n",
    "- `adx`\n",
    "- `obv`\n",
    "\n",
    "The final dataset will be saved for use in prediction tasks."
   ]
  },
  {
   "cell_type": "code",
   "execution_count": null,
   "id": "82b46aea",
   "metadata": {},
   "outputs": [],
   "source": [
    "# 1. Import Required Libraries\n",
    "import pandas as pd\n",
    "import numpy as np"
   ]
  },
  {
   "cell_type": "code",
   "execution_count": null,
   "id": "37b2a227",
   "metadata": {},
   "outputs": [],
   "source": [
    "# 2. Load Raw Dataset\n",
    "df = pd.read_csv('backend/data/dataset.csv', index_col=0, parse_dates=True)\n",
    "df.head()"
   ]
  },
  {
   "cell_type": "code",
   "execution_count": null,
   "id": "2b38a414",
   "metadata": {},
   "outputs": [],
   "source": [
    "# 3. Calculate Technical Indicators\n",
    "\n",
    "def calculate_sma(series, window):\n",
    "    return series.rolling(window=window, min_periods=1).mean()\n",
    "\n",
    "def calculate_rsi(series, window=14):\n",
    "    delta = series.diff()\n",
    "    gain = delta.where(delta > 0, 0).rolling(window=window, min_periods=1).mean()\n",
    "    loss = (-delta.where(delta < 0, 0)).rolling(window=window, min_periods=1).mean()\n",
    "    loss = loss.replace(0, 1e-6)\n",
    "    rs = gain / loss\n",
    "    rsi = 100 - (100 / (1 + rs))\n",
    "    return rsi.fillna(50).replace([np.inf, -np.inf], 50)\n",
    "\n",
    "def calculate_macd(series, fast=12, slow=26, signal=9):\n",
    "    exp1 = series.ewm(span=fast, adjust=False).mean()\n",
    "    exp2 = series.ewm(span=slow, adjust=False).mean()\n",
    "    macd_line = exp1 - exp2\n",
    "    signal_line = macd_line.ewm(span=signal, adjust=False).mean()\n",
    "    macd_hist = macd_line - signal_line\n",
    "    return macd_line.fillna(0), signal_line.fillna(0), macd_hist.fillna(0)\n",
    "\n",
    "def calculate_adx(high, low, close, window=14):\n",
    "    tr1 = high - low\n",
    "    tr2 = abs(high - close.shift(1))\n",
    "    tr3 = abs(low - close.shift(1))\n",
    "    tr = pd.concat([tr1, tr2, tr3], axis=1).max(axis=1)\n",
    "    high_diff = high.diff()\n",
    "    low_diff = low.shift(1) - low\n",
    "    dm_plus = np.where((high_diff > low_diff) & (high_diff > 0), high_diff, 0)\n",
    "    dm_minus = np.where((low_diff > high_diff) & (low_diff > 0), low_diff, 0)\n",
    "    atr = tr.rolling(window=window, min_periods=1).mean().replace(0, 1e-6)\n",
    "    di_plus = 100 * (pd.Series(dm_plus).rolling(window=window, min_periods=1).mean() / atr)\n",
    "    di_minus = 100 * (pd.Series(dm_minus).rolling(window=window, min_periods=1).mean() / atr)\n",
    "    di_sum = di_plus + di_minus\n",
    "    di_sum = di_sum.replace(0, 1e-6)\n",
    "    dx = 100 * abs(di_plus - di_minus) / di_sum\n",
    "    adx = dx.rolling(window=window, min_periods=1).mean()\n",
    "    return adx.fillna(25).replace([np.inf, -np.inf], 25)\n",
    "\n",
    "def calculate_obv(close, volume):\n",
    "    obv = [0]\n",
    "    for i in range(1, len(close)):\n",
    "        if close.iloc[i] > close.iloc[i-1]:\n",
    "            obv.append(obv[-1] + volume.iloc[i])\n",
    "        elif close.iloc[i] < close.iloc[i-1]:\n",
    "            obv.append(obv[-1] - volume.iloc[i])\n",
    "        else:\n",
    "            obv.append(obv[-1])\n",
    "    return pd.Series(obv, index=close.index)\n",
    "\n",
    "# Calculate indicators\n",
    "sma_50 = calculate_sma(df['Adj Close'], 50)\n",
    "sma_200 = calculate_sma(df['Adj Close'], 200)\n",
    "df['rsi'] = calculate_rsi(df['Adj Close'])\n",
    "df['macd'], df['macd_signal'], df['macd_hist'] = calculate_macd(df['Adj Close'])\n",
    "df['adx'] = calculate_adx(df['High'], df['Low'], df['Adj Close'])\n",
    "df['obv'] = calculate_obv(df['Adj Close'], df['Volume'])\n",
    "df['sma_50'] = sma_50\n",
    "df['sma_200'] = sma_200"
   ]
  },
  {
   "cell_type": "code",
   "execution_count": null,
   "id": "46a0f115",
   "metadata": {},
   "outputs": [],
   "source": [
    "# 4. Create Derived Features\n",
    "df['sma_crossover'] = df['sma_50'] - df['sma_200']\n",
    "df['price_sma_ratio'] = df['Adj Close'] / df['sma_200'].replace(0, np.nan)\n",
    "df['price_sma_ratio'] = df['price_sma_ratio'].fillna(1.0)"
   ]
  },
  {
   "cell_type": "code",
   "execution_count": null,
   "id": "9b271256",
   "metadata": {},
   "outputs": [],
   "source": [
    "# 5. Handle Missing Values and Clean Data\n",
    "features = ['sma_crossover', 'price_sma_ratio', 'rsi', 'macd', 'macd_hist', 'adx', 'obv']\n",
    "for col in features:\n",
    "    if col in df.columns:\n",
    "        nan_count = df[col].isnull().sum()\n",
    "        if nan_count > 0:\n",
    "            fill_value = df[col].median() if col != 'target' else 0\n",
    "            if pd.isna(fill_value):\n",
    "                fill_value = 0\n",
    "            df[col] = df[col].fillna(fill_value)\n",
    "        inf_count = np.isinf(df[col]).sum()\n",
    "        if inf_count > 0:\n",
    "            df[col] = df[col].replace([np.inf, -np.inf], [df[col].quantile(0.99), df[col].quantile(0.01)])"
   ]
  }
 ],
 "metadata": {
  "language_info": {
   "name": "python"
  }
 },
 "nbformat": 4,
 "nbformat_minor": 5
}
